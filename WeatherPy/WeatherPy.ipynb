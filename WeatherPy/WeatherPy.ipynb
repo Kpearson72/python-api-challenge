{
 "cells": [
  {
   "cell_type": "markdown",
   "metadata": {},
   "source": [
    "# WeatherPy\n",
    "----\n",
    "\n",
    "#### Note\n",
    "* Instructions have been included for each segment. You do not have to follow them exactly, but they are included to help you think through the steps."
   ]
  },
  {
   "cell_type": "code",
   "execution_count": 1,
   "metadata": {
    "scrolled": true
   },
   "outputs": [],
   "source": [
    "# Dependencies and Setup\n",
    "import matplotlib.pyplot as plt\n",
    "import pandas as pd\n",
    "import numpy as np\n",
    "import requests\n",
    "import time\n",
    "from scipy.stats import linregress\n",
    "\n",
    "# Import API key\n",
    "from config import weather_api_key\n",
    "\n",
    "# Incorporated citipy to determine city based on latitude and longitude\n",
    "from citipy import citipy\n",
    "\n",
    "# Output File (CSV)\n",
    "output_data_file = 'output_data/cities.csv'\n",
    "\n",
    "# Range of latitudes and longitudes\n",
    "lat_range = (-90, 90)\n",
    "lng_range = (-180, 180)"
   ]
  },
  {
   "cell_type": "code",
   "execution_count": null,
   "metadata": {},
   "outputs": [],
   "source": []
  },
  {
   "cell_type": "markdown",
   "metadata": {},
   "source": [
    "## Generate Cities List"
   ]
  },
  {
   "cell_type": "code",
   "execution_count": 2,
   "metadata": {},
   "outputs": [
    {
     "data": {
      "text/plain": [
       "641"
      ]
     },
     "execution_count": 2,
     "metadata": {},
     "output_type": "execute_result"
    }
   ],
   "source": [
    "# List for holding lat_lngs and cities\n",
    "lat_lngs = []\n",
    "cities = []\n",
    "\n",
    "# Create a set of random lat and lng combinations\n",
    "lats = np.random.uniform(lat_range[0], lat_range[1], size=1500)\n",
    "lngs = np.random.uniform(lng_range[0], lng_range[1], size=1500)\n",
    "lat_lngs = zip(lats, lngs)\n",
    "\n",
    "# Identify nearest city for each lat, lng combination\n",
    "for lat_lng in lat_lngs:\n",
    "    city = citipy.nearest_city(lat_lng[0], lat_lng[1]).city_name\n",
    "    \n",
    "    # If the city is unique, then add it to a our cities list\n",
    "    if city not in cities:\n",
    "        cities.append(city)\n",
    "\n",
    "# Print the city count to confirm sufficient count\n",
    "len(cities)\n",
    "#cities"
   ]
  },
  {
   "cell_type": "code",
   "execution_count": 3,
   "metadata": {},
   "outputs": [
    {
     "data": {
      "text/plain": [
       "{'coord': {'lon': -156.79, 'lat': 71.29},\n",
       " 'weather': [{'id': 801,\n",
       "   'main': 'Clouds',\n",
       "   'description': 'few clouds',\n",
       "   'icon': '02n'}],\n",
       " 'base': 'stations',\n",
       " 'main': {'temp': -22,\n",
       "  'feels_like': -29.75,\n",
       "  'temp_min': -22,\n",
       "  'temp_max': -22,\n",
       "  'pressure': 1033,\n",
       "  'humidity': 69},\n",
       " 'visibility': 10000,\n",
       " 'wind': {'speed': 5.7, 'deg': 70},\n",
       " 'clouds': {'all': 20},\n",
       " 'dt': 1607661591,\n",
       " 'sys': {'type': 1, 'id': 7649, 'country': 'US', 'sunrise': 0, 'sunset': 0},\n",
       " 'timezone': -32400,\n",
       " 'id': 5880054,\n",
       " 'name': 'Barrow',\n",
       " 'cod': 200}"
      ]
     },
     "execution_count": 3,
     "metadata": {},
     "output_type": "execute_result"
    }
   ],
   "source": [
    "url = \"http://api.openweathermap.org/data/2.5/weather?\"\n",
    "units = \"metric\"\n",
    "query_url = f\"{url}appid={weather_api_key}&units={units}&q=\"\n",
    "response = requests.get(query_url + city).json()\n",
    "response"
   ]
  },
  {
   "cell_type": "markdown",
   "metadata": {},
   "source": [
    "### Perform API Calls\n",
    "* Perform a weather check on each city using a series of successive API calls.\n",
    "* Include a print log of each city as it'sbeing processed (with the city number and city name).\n"
   ]
  },
  {
   "cell_type": "code",
   "execution_count": 4,
   "metadata": {},
   "outputs": [],
   "source": [
    "city_name = []\n",
    "city_lat = []\n",
    "city_lng = []\n",
    "max_temp = []\n",
    "humidity = []\n",
    "cloudiness = []\n",
    "wind_speed = []\n",
    "country = []\n",
    "date = []\n",
    "index_counter = 0\n",
    "set_counter = 1"
   ]
  },
  {
   "cell_type": "code",
   "execution_count": null,
   "metadata": {},
   "outputs": [
    {
     "name": "stdout",
     "output_type": "stream",
     "text": [
      "Beginning Data Retrieval \n",
      "-----------------------------\n",
      "City not found. Skipping...\n",
      "Processing Record 1 of Set 1 | liaozhong\n",
      "Processing Record 2 of Set 1 | vila franca do campo\n",
      "Processing Record 3 of Set 1 | punta arenas\n",
      "Processing Record 4 of Set 1 | busselton\n",
      "Processing Record 5 of Set 1 | albany\n",
      "City not found. Skipping...\n",
      "Processing Record 6 of Set 1 | rikitea\n",
      "City not found. Skipping...\n",
      "Processing Record 7 of Set 1 | kodinsk\n",
      "Processing Record 8 of Set 1 | vardo\n",
      "Processing Record 9 of Set 1 | ushuaia\n",
      "Processing Record 10 of Set 1 | rio gallegos\n",
      "Processing Record 11 of Set 1 | hobart\n",
      "Processing Record 12 of Set 1 | saint-joseph\n",
      "Processing Record 13 of Set 1 | karratha\n",
      "Processing Record 14 of Set 1 | okitipupa\n",
      "Processing Record 15 of Set 1 | hermanus\n",
      "Processing Record 16 of Set 1 | pevek\n",
      "Processing Record 17 of Set 1 | belmonte\n",
      "Processing Record 18 of Set 1 | cherskiy\n",
      "Processing Record 19 of Set 1 | saint-philippe\n",
      "City not found. Skipping...\n",
      "Processing Record 20 of Set 1 | ucar\n",
      "Processing Record 21 of Set 1 | butaritari\n",
      "Processing Record 22 of Set 1 | beyneu\n",
      "Processing Record 23 of Set 1 | eureka\n",
      "Processing Record 24 of Set 1 | praia\n",
      "Processing Record 25 of Set 1 | atuona\n",
      "Processing Record 26 of Set 1 | new norfolk\n",
      "Processing Record 27 of Set 1 | tuktoyaktuk\n",
      "Processing Record 28 of Set 1 | tasiilaq\n",
      "Processing Record 29 of Set 1 | bluff\n",
      "Processing Record 30 of Set 1 | prince george\n",
      "Processing Record 31 of Set 1 | faanui\n",
      "Processing Record 32 of Set 1 | paamiut\n",
      "Processing Record 33 of Set 1 | mataura\n",
      "Processing Record 34 of Set 1 | vaini\n",
      "Processing Record 35 of Set 1 | emba\n",
      "Processing Record 36 of Set 1 | palana\n",
      "Processing Record 37 of Set 1 | east london\n",
      "Processing Record 38 of Set 1 | saskylakh\n",
      "City not found. Skipping...\n",
      "Processing Record 39 of Set 1 | yabelo\n",
      "Processing Record 40 of Set 1 | cape town\n",
      "Processing Record 41 of Set 1 | arcata\n",
      "Processing Record 42 of Set 1 | chokurdakh\n",
      "Processing Record 43 of Set 1 | grindavik\n",
      "Processing Record 44 of Set 1 | lazurne\n",
      "Processing Record 45 of Set 1 | dok kham tai\n",
      "Processing Record 46 of Set 1 | bredasdorp\n",
      "Processing Record 47 of Set 1 | longyearbyen\n",
      "Processing Record 48 of Set 1 | souillac\n",
      "Processing Record 49 of Set 1 | port hedland\n",
      "Processing Record 50 of Set 1 | kruisfontein\n",
      "Processing Record 0 of Set 2 | adrar\n",
      "Processing Record 1 of Set 2 | meadow lake\n",
      "Processing Record 2 of Set 2 | auki\n",
      "Processing Record 3 of Set 2 | marsa matruh\n",
      "Processing Record 4 of Set 2 | nam som\n",
      "Processing Record 5 of Set 2 | qaanaaq\n",
      "Processing Record 6 of Set 2 | port elizabeth\n",
      "Processing Record 7 of Set 2 | qinzhou\n",
      "Processing Record 8 of Set 2 | georgetown\n",
      "Processing Record 9 of Set 2 | puerto ayora\n",
      "Processing Record 10 of Set 2 | campo verde\n",
      "Processing Record 11 of Set 2 | thompson\n",
      "Processing Record 12 of Set 2 | havre-saint-pierre\n",
      "Processing Record 13 of Set 2 | san lazaro\n",
      "Processing Record 14 of Set 2 | plettenberg bay\n",
      "Processing Record 15 of Set 2 | leningradskiy\n",
      "Processing Record 16 of Set 2 | korla\n",
      "Processing Record 17 of Set 2 | pointe-noire\n",
      "Processing Record 18 of Set 2 | mayo\n",
      "City not found. Skipping...\n",
      "Processing Record 19 of Set 2 | csanytelek\n",
      "City not found. Skipping...\n",
      "City not found. Skipping...\n",
      "Processing Record 20 of Set 2 | feijo\n",
      "Processing Record 21 of Set 2 | huaraz\n",
      "Processing Record 22 of Set 2 | kloulklubed\n",
      "Processing Record 23 of Set 2 | airai\n",
      "Processing Record 24 of Set 2 | meulaboh\n",
      "Processing Record 25 of Set 2 | ulaanbaatar\n",
      "Processing Record 26 of Set 2 | ntungamo\n",
      "Processing Record 27 of Set 2 | kifri\n",
      "Processing Record 28 of Set 2 | jamestown\n",
      "Processing Record 29 of Set 2 | barrow\n",
      "Processing Record 30 of Set 2 | sayyan\n",
      "Processing Record 31 of Set 2 | kaitangata\n",
      "Processing Record 32 of Set 2 | dongsheng\n",
      "City not found. Skipping...\n",
      "Processing Record 33 of Set 2 | mogadishu\n",
      "Processing Record 34 of Set 2 | salimpur\n",
      "Processing Record 35 of Set 2 | ca mau\n",
      "Processing Record 36 of Set 2 | zhob\n",
      "Processing Record 37 of Set 2 | whitehorse\n",
      "Processing Record 38 of Set 2 | hithadhoo\n",
      "Processing Record 39 of Set 2 | klaksvik\n",
      "Processing Record 40 of Set 2 | thinadhoo\n",
      "Processing Record 41 of Set 2 | lebu\n",
      "Processing Record 42 of Set 2 | cockburn town\n",
      "Processing Record 43 of Set 2 | port alfred\n",
      "Processing Record 44 of Set 2 | solginskiy\n",
      "Processing Record 45 of Set 2 | zhaoqing\n",
      "Processing Record 46 of Set 2 | hilo\n",
      "Processing Record 47 of Set 2 | elko\n",
      "Processing Record 48 of Set 2 | saint helens\n",
      "Processing Record 49 of Set 2 | tiarei\n",
      "Processing Record 50 of Set 2 | muzhi\n",
      "Processing Record 0 of Set 3 | vung tau\n",
      "Processing Record 1 of Set 3 | taungdwingyi\n",
      "Processing Record 2 of Set 3 | upernavik\n",
      "Processing Record 3 of Set 3 | la libertad\n",
      "Processing Record 4 of Set 3 | hasaki\n",
      "Processing Record 5 of Set 3 | danville\n",
      "Processing Record 6 of Set 3 | atambua\n",
      "Processing Record 7 of Set 3 | lufilufi\n",
      "Processing Record 8 of Set 3 | akdepe\n",
      "Processing Record 9 of Set 3 | sinnamary\n",
      "Processing Record 10 of Set 3 | marquette\n",
      "Processing Record 11 of Set 3 | biak\n",
      "Processing Record 12 of Set 3 | launceston\n",
      "Processing Record 13 of Set 3 | champerico\n",
      "Processing Record 14 of Set 3 | severo-kurilsk\n",
      "Processing Record 15 of Set 3 | hay river\n",
      "Processing Record 16 of Set 3 | samboan\n",
      "Processing Record 17 of Set 3 | sao desiderio\n",
      "Processing Record 18 of Set 3 | valparaiso\n",
      "City not found. Skipping...\n",
      "Processing Record 19 of Set 3 | wewak\n",
      "Processing Record 20 of Set 3 | rafraf\n",
      "Processing Record 21 of Set 3 | koscierzyna\n",
      "Processing Record 22 of Set 3 | indian head\n",
      "Processing Record 23 of Set 3 | sitka\n",
      "Processing Record 24 of Set 3 | imbituba\n",
      "Processing Record 25 of Set 3 | port macquarie\n",
      "Processing Record 26 of Set 3 | kapaa\n",
      "Processing Record 27 of Set 3 | ranong\n",
      "Processing Record 28 of Set 3 | arraial do cabo\n",
      "Processing Record 29 of Set 3 | ypsonas\n",
      "Processing Record 30 of Set 3 | the valley\n",
      "Processing Record 31 of Set 3 | avarua\n",
      "Processing Record 32 of Set 3 | wembley\n",
      "Processing Record 33 of Set 3 | asau\n",
      "City not found. Skipping...\n",
      "Processing Record 34 of Set 3 | vestmannaeyjar\n",
      "City not found. Skipping...\n",
      "Processing Record 35 of Set 3 | khatanga\n",
      "Processing Record 36 of Set 3 | prescott\n",
      "Processing Record 37 of Set 3 | bambous virieux\n",
      "Processing Record 38 of Set 3 | winnemucca\n",
      "Processing Record 39 of Set 3 | krasnoselkup\n",
      "Processing Record 40 of Set 3 | pangoa\n",
      "Processing Record 41 of Set 3 | mosquera\n",
      "Processing Record 42 of Set 3 | itarema\n",
      "Processing Record 43 of Set 3 | alice\n",
      "Processing Record 44 of Set 3 | provideniya\n",
      "Processing Record 45 of Set 3 | karasuk\n",
      "Processing Record 46 of Set 3 | mar del plata\n",
      "Processing Record 47 of Set 3 | kirando\n",
      "Processing Record 48 of Set 3 | port-cartier\n",
      "Processing Record 49 of Set 3 | kontagora\n",
      "Processing Record 50 of Set 3 | along\n",
      "Processing Record 0 of Set 4 | eatonton\n",
      "Processing Record 1 of Set 4 | lata\n",
      "Processing Record 2 of Set 4 | naze\n",
      "Processing Record 3 of Set 4 | hat yai\n",
      "Processing Record 4 of Set 4 | prainha\n",
      "City not found. Skipping...\n",
      "City not found. Skipping...\n",
      "Processing Record 5 of Set 4 | hare bay\n",
      "Processing Record 6 of Set 4 | kedougou\n",
      "Processing Record 7 of Set 4 | bethel\n",
      "Processing Record 8 of Set 4 | bathsheba\n",
      "City not found. Skipping...\n",
      "Processing Record 9 of Set 4 | brae\n",
      "Processing Record 10 of Set 4 | saint-georges\n",
      "Processing Record 11 of Set 4 | sao joao da barra\n",
      "Processing Record 12 of Set 4 | kungurtug\n",
      "Processing Record 13 of Set 4 | yazd\n",
      "Processing Record 14 of Set 4 | fortuna\n",
      "Processing Record 15 of Set 4 | roma\n",
      "Processing Record 16 of Set 4 | hirara\n",
      "City not found. Skipping...\n",
      "Processing Record 17 of Set 4 | padang\n",
      "Processing Record 18 of Set 4 | clyde river\n",
      "Processing Record 19 of Set 4 | aksu\n",
      "Processing Record 20 of Set 4 | lapua\n",
      "Processing Record 21 of Set 4 | castro\n",
      "City not found. Skipping...\n",
      "Processing Record 22 of Set 4 | santiago del estero\n",
      "Processing Record 23 of Set 4 | norman wells\n",
      "Processing Record 24 of Set 4 | maamba\n",
      "Processing Record 25 of Set 4 | tias\n",
      "Processing Record 26 of Set 4 | nadudvar\n",
      "Processing Record 27 of Set 4 | ukiah\n",
      "Processing Record 28 of Set 4 | portland\n",
      "Processing Record 29 of Set 4 | decatur\n",
      "Processing Record 30 of Set 4 | eisenerz\n",
      "Processing Record 31 of Set 4 | anqing\n",
      "Processing Record 32 of Set 4 | kimbe\n",
      "Processing Record 33 of Set 4 | oranjemund\n",
      "Processing Record 34 of Set 4 | tateyama\n"
     ]
    },
    {
     "name": "stdout",
     "output_type": "stream",
     "text": [
      "Processing Record 35 of Set 4 | dubrovytsya\n",
      "Processing Record 36 of Set 4 | ilulissat\n",
      "Processing Record 37 of Set 4 | petrivka\n",
      "Processing Record 38 of Set 4 | dali\n",
      "Processing Record 39 of Set 4 | bilma\n",
      "Processing Record 40 of Set 4 | kahului\n",
      "Processing Record 41 of Set 4 | boali\n",
      "Processing Record 42 of Set 4 | yar-sale\n",
      "Processing Record 43 of Set 4 | san patricio\n",
      "City not found. Skipping...\n",
      "Processing Record 44 of Set 4 | talnakh\n",
      "Processing Record 45 of Set 4 | nouadhibou\n",
      "Processing Record 46 of Set 4 | atar\n",
      "Processing Record 47 of Set 4 | port huron\n",
      "Processing Record 48 of Set 4 | malanje\n",
      "Processing Record 49 of Set 4 | nemuro\n",
      "Processing Record 50 of Set 4 | itoman\n",
      "Processing Record 0 of Set 5 | port augusta\n",
      "Processing Record 1 of Set 5 | saryg-sep\n",
      "City not found. Skipping...\n",
      "Processing Record 2 of Set 5 | asfi\n",
      "Processing Record 3 of Set 5 | temirtau\n",
      "Processing Record 4 of Set 5 | victoria\n",
      "Processing Record 5 of Set 5 | manakara\n",
      "Processing Record 6 of Set 5 | bengkulu\n",
      "Processing Record 7 of Set 5 | shubarshi\n",
      "Processing Record 8 of Set 5 | katsuura\n",
      "Processing Record 9 of Set 5 | dabakala\n",
      "Processing Record 10 of Set 5 | shingu\n",
      "Processing Record 11 of Set 5 | dikson\n",
      "Processing Record 12 of Set 5 | acapulco\n",
      "Processing Record 13 of Set 5 | yumen\n",
      "Processing Record 14 of Set 5 | panjab\n",
      "Processing Record 15 of Set 5 | maceio\n",
      "Processing Record 16 of Set 5 | esperance\n",
      "Processing Record 17 of Set 5 | hamilton\n",
      "Processing Record 18 of Set 5 | borogontsy\n",
      "Processing Record 19 of Set 5 | polewali\n",
      "Processing Record 20 of Set 5 | dukat\n",
      "City not found. Skipping...\n",
      "Processing Record 21 of Set 5 | smithers\n",
      "Processing Record 22 of Set 5 | carnarvon\n",
      "Processing Record 23 of Set 5 | kundiawa\n",
      "Processing Record 24 of Set 5 | horki\n",
      "Processing Record 25 of Set 5 | todos santos\n",
      "Processing Record 26 of Set 5 | tuatapere\n",
      "Processing Record 27 of Set 5 | sola\n",
      "Processing Record 28 of Set 5 | tabuk\n",
      "Processing Record 29 of Set 5 | yellowknife\n",
      "Processing Record 30 of Set 5 | lasa\n",
      "Processing Record 31 of Set 5 | zaragoza\n",
      "City not found. Skipping...\n",
      "Processing Record 32 of Set 5 | moriyama\n",
      "Processing Record 33 of Set 5 | wasilla\n",
      "Processing Record 34 of Set 5 | digby\n",
      "Processing Record 35 of Set 5 | dudinka\n",
      "Processing Record 36 of Set 5 | maarianhamina\n",
      "Processing Record 37 of Set 5 | columbus\n",
      "Processing Record 38 of Set 5 | atarra\n",
      "Processing Record 39 of Set 5 | minab\n",
      "Processing Record 40 of Set 5 | denpasar\n",
      "Processing Record 41 of Set 5 | chapais\n",
      "Processing Record 42 of Set 5 | butterworth\n",
      "Processing Record 43 of Set 5 | cilegon\n",
      "Processing Record 44 of Set 5 | zuenoula\n",
      "Processing Record 45 of Set 5 | moroni\n",
      "Processing Record 46 of Set 5 | mnogovershinnyy\n",
      "City not found. Skipping...\n",
      "Processing Record 47 of Set 5 | killybegs\n",
      "Processing Record 48 of Set 5 | baiao\n",
      "Processing Record 49 of Set 5 | maragogi\n",
      "Processing Record 50 of Set 5 | cidreira\n",
      "Processing Record 0 of Set 6 | fairbanks\n",
      "Processing Record 1 of Set 6 | mumford\n",
      "Processing Record 2 of Set 6 | pangai\n",
      "Processing Record 3 of Set 6 | belfast\n",
      "Processing Record 4 of Set 6 | la ronge\n",
      "Processing Record 5 of Set 6 | chumikan\n",
      "Processing Record 6 of Set 6 | strathmore\n",
      "Processing Record 7 of Set 6 | normandin\n",
      "Processing Record 8 of Set 6 | mwene-ditu\n",
      "Processing Record 9 of Set 6 | aswan\n",
      "Processing Record 10 of Set 6 | ternate\n",
      "Processing Record 11 of Set 6 | kodiak\n",
      "Processing Record 12 of Set 6 | kawambwa\n",
      "Processing Record 13 of Set 6 | budogoshch\n",
      "Processing Record 14 of Set 6 | gravelbourg\n",
      "City not found. Skipping...\n",
      "Processing Record 15 of Set 6 | solnechnyy\n",
      "Processing Record 16 of Set 6 | iraan\n",
      "Processing Record 17 of Set 6 | gazojak\n",
      "Processing Record 18 of Set 6 | saldanha\n",
      "Processing Record 19 of Set 6 | berlevag\n",
      "Processing Record 20 of Set 6 | sao felix do xingu\n",
      "Processing Record 21 of Set 6 | byron bay\n",
      "Processing Record 22 of Set 6 | kavaratti\n",
      "City not found. Skipping...\n",
      "Processing Record 23 of Set 6 | xinmin\n",
      "Processing Record 24 of Set 6 | manbij\n",
      "Processing Record 25 of Set 6 | syracuse\n",
      "Processing Record 26 of Set 6 | phangnga\n",
      "Processing Record 27 of Set 6 | barra\n",
      "Processing Record 28 of Set 6 | lafia\n",
      "Processing Record 29 of Set 6 | qesarya\n",
      "Processing Record 30 of Set 6 | pervomayskiy\n",
      "Processing Record 31 of Set 6 | mahebourg\n",
      "Processing Record 32 of Set 6 | gogrial\n",
      "Processing Record 33 of Set 6 | melnikovo\n",
      "Processing Record 34 of Set 6 | ribeira grande\n",
      "Processing Record 35 of Set 6 | dunedin\n",
      "Processing Record 36 of Set 6 | chuy\n",
      "Processing Record 37 of Set 6 | asyut\n",
      "Processing Record 38 of Set 6 | nikolskoye\n",
      "Processing Record 39 of Set 6 | bontang\n",
      "Processing Record 40 of Set 6 | kieta\n",
      "Processing Record 41 of Set 6 | chateaubelair\n",
      "Processing Record 42 of Set 6 | kampot\n",
      "Processing Record 43 of Set 6 | port hardy\n",
      "Processing Record 44 of Set 6 | freeport\n",
      "City not found. Skipping...\n",
      "Processing Record 45 of Set 6 | oistins\n",
      "Processing Record 46 of Set 6 | los andes\n",
      "Processing Record 47 of Set 6 | palmerston\n",
      "Processing Record 48 of Set 6 | baykit\n",
      "Processing Record 49 of Set 6 | vila velha\n",
      "Processing Record 50 of Set 6 | midland\n",
      "Processing Record 0 of Set 7 | hualmay\n",
      "Processing Record 1 of Set 7 | dicabisagan\n",
      "Processing Record 2 of Set 7 | isabela\n",
      "Processing Record 3 of Set 7 | griffith\n",
      "Processing Record 4 of Set 7 | cintalapa\n",
      "Processing Record 5 of Set 7 | luderitz\n",
      "Processing Record 6 of Set 7 | torbay\n",
      "Processing Record 7 of Set 7 | dingle\n",
      "Processing Record 8 of Set 7 | sydney\n",
      "Processing Record 9 of Set 7 | kochi\n",
      "Processing Record 10 of Set 7 | dekar\n",
      "City not found. Skipping...\n",
      "Processing Record 11 of Set 7 | coquimbo\n",
      "Processing Record 12 of Set 7 | wote\n",
      "City not found. Skipping...\n",
      "Processing Record 13 of Set 7 | benguela\n",
      "Processing Record 14 of Set 7 | altay\n",
      "City not found. Skipping...\n",
      "Processing Record 15 of Set 7 | pervomaysk\n",
      "Processing Record 16 of Set 7 | mandeville\n",
      "Processing Record 17 of Set 7 | coihaique\n",
      "Processing Record 18 of Set 7 | calabozo\n",
      "Processing Record 19 of Set 7 | ozerne\n",
      "Processing Record 20 of Set 7 | ponta do sol\n",
      "Processing Record 21 of Set 7 | isangel\n",
      "Processing Record 22 of Set 7 | crotone\n",
      "Processing Record 23 of Set 7 | dhidhdhoo\n",
      "Processing Record 24 of Set 7 | mounana\n",
      "Processing Record 25 of Set 7 | baherden\n",
      "Processing Record 26 of Set 7 | yenagoa\n",
      "Processing Record 27 of Set 7 | mutis\n",
      "Processing Record 28 of Set 7 | aklavik\n",
      "Processing Record 29 of Set 7 | nanortalik\n",
      "Processing Record 30 of Set 7 | bulaevo\n",
      "Processing Record 31 of Set 7 | tilichiki\n",
      "Processing Record 32 of Set 7 | tres arroyos\n",
      "Processing Record 33 of Set 7 | jose de freitas\n",
      "City not found. Skipping...\n",
      "Processing Record 34 of Set 7 | borborema\n",
      "Processing Record 35 of Set 7 | sorland\n",
      "Processing Record 36 of Set 7 | te anau\n",
      "Processing Record 37 of Set 7 | ilawe\n",
      "Processing Record 38 of Set 7 | surin\n",
      "Processing Record 39 of Set 7 | nhulunbuy\n",
      "Processing Record 40 of Set 7 | darlowo\n",
      "City not found. Skipping...\n",
      "City not found. Skipping...\n",
      "Processing Record 41 of Set 7 | whitefish\n",
      "Processing Record 42 of Set 7 | pontianak\n",
      "Processing Record 43 of Set 7 | amazar\n",
      "Processing Record 44 of Set 7 | bela\n",
      "Processing Record 45 of Set 7 | barcelos\n",
      "Processing Record 46 of Set 7 | arlit\n",
      "Processing Record 47 of Set 7 | sisimiut\n",
      "Processing Record 48 of Set 7 | carballo\n",
      "Processing Record 49 of Set 7 | sur\n",
      "Processing Record 50 of Set 7 | karpogory\n",
      "Processing Record 0 of Set 8 | ahipara\n",
      "Processing Record 1 of Set 8 | necochea\n",
      "Processing Record 2 of Set 8 | caravelas\n",
      "Processing Record 3 of Set 8 | nong bua\n",
      "Processing Record 4 of Set 8 | lumut\n",
      "Processing Record 5 of Set 8 | lojt kirkeby\n",
      "Processing Record 6 of Set 8 | koungou\n",
      "Processing Record 7 of Set 8 | port pirie\n",
      "Processing Record 8 of Set 8 | aloleng\n",
      "City not found. Skipping...\n",
      "Processing Record 9 of Set 8 | hofn\n",
      "Processing Record 10 of Set 8 | vilhena\n",
      "Processing Record 11 of Set 8 | whitianga\n",
      "Processing Record 12 of Set 8 | tiksi\n",
      "Processing Record 13 of Set 8 | pisco\n",
      "Processing Record 14 of Set 8 | yerbogachen\n",
      "Processing Record 15 of Set 8 | xingcheng\n",
      "Processing Record 16 of Set 8 | san jose\n",
      "Processing Record 17 of Set 8 | mandalgovi\n",
      "Processing Record 18 of Set 8 | coahuayana\n",
      "Processing Record 19 of Set 8 | zaraza\n",
      "Processing Record 20 of Set 8 | escarcega\n",
      "Processing Record 21 of Set 8 | teguise\n",
      "Processing Record 22 of Set 8 | srednekolymsk\n",
      "Processing Record 23 of Set 8 | lompoc\n"
     ]
    },
    {
     "name": "stdout",
     "output_type": "stream",
     "text": [
      "Processing Record 24 of Set 8 | pecos\n",
      "Processing Record 25 of Set 8 | hun\n",
      "Processing Record 26 of Set 8 | northam\n",
      "Processing Record 27 of Set 8 | tibati\n",
      "Processing Record 28 of Set 8 | port shepstone\n",
      "Processing Record 29 of Set 8 | mingyue\n",
      "Processing Record 30 of Set 8 | vostok\n",
      "Processing Record 31 of Set 8 | narsaq\n",
      "Processing Record 32 of Set 8 | pemangkat\n",
      "Processing Record 33 of Set 8 | college\n",
      "Processing Record 34 of Set 8 | kande\n",
      "Processing Record 35 of Set 8 | erdenet\n",
      "Processing Record 36 of Set 8 | careiro da varzea\n",
      "Processing Record 37 of Set 8 | atherton\n",
      "Processing Record 38 of Set 8 | awbari\n",
      "Processing Record 39 of Set 8 | pokhara\n",
      "Processing Record 40 of Set 8 | genhe\n",
      "Processing Record 41 of Set 8 | kalmunai\n",
      "Processing Record 42 of Set 8 | leua\n",
      "Processing Record 43 of Set 8 | lorengau\n",
      "Processing Record 44 of Set 8 | letterkenny\n",
      "Processing Record 45 of Set 8 | halifax\n",
      "Processing Record 46 of Set 8 | tigre\n",
      "Processing Record 47 of Set 8 | leninskoye\n",
      "Processing Record 48 of Set 8 | mehamn\n",
      "Processing Record 49 of Set 8 | cabo san lucas\n",
      "Processing Record 50 of Set 8 | humberto de campos\n",
      "Processing Record 0 of Set 9 | cap malheureux\n",
      "Processing Record 1 of Set 9 | galle\n",
      "Processing Record 2 of Set 9 | svetlogorsk\n",
      "Processing Record 3 of Set 9 | sena madureira\n",
      "Processing Record 4 of Set 9 | inongo\n",
      "Processing Record 5 of Set 9 | ereymentau\n",
      "Processing Record 6 of Set 9 | wonthaggi\n",
      "Processing Record 7 of Set 9 | lima duarte\n",
      "Processing Record 8 of Set 9 | katerero\n",
      "City not found. Skipping...\n",
      "Processing Record 9 of Set 9 | hove\n",
      "Processing Record 10 of Set 9 | nishihara\n",
      "Processing Record 11 of Set 9 | bonfim\n",
      "Processing Record 12 of Set 9 | formosa\n",
      "Processing Record 13 of Set 9 | bafra\n",
      "City not found. Skipping...\n",
      "Processing Record 14 of Set 9 | touros\n",
      "Processing Record 15 of Set 9 | saint-denis\n",
      "Processing Record 16 of Set 9 | batagay-alyta\n",
      "Processing Record 17 of Set 9 | vorukh\n",
      "Processing Record 18 of Set 9 | la asuncion\n",
      "City not found. Skipping...\n",
      "City not found. Skipping...\n",
      "Processing Record 19 of Set 9 | araceli\n",
      "Processing Record 20 of Set 9 | quang ngai\n"
     ]
    }
   ],
   "source": [
    "print('Beginning Data Retrieval ')\n",
    "print('-----------------------------')\n",
    "for index, city in enumerate(cities):\n",
    "    query_url = f\"{url}appid={weather_api_key}&units={units}&q=\"\n",
    "    response = requests.get(query_url + city).json()\n",
    "    try:\n",
    "       \n",
    "        city_name.append(response['name'])\n",
    "        city_lat.append(response['coord']['lat'])\n",
    "        max_temp.append(response['main']['temp_max'])\n",
    "        if index_counter > 49:\n",
    "            index_counter = 0\n",
    "            set_counter = set_counter + 1\n",
    "        else:\n",
    "            index_counter = index_counter + 1\n",
    "  \n",
    "        print(f\"Processing Record {index_counter} of Set {set_counter} | {city}\")\n",
    "    except:\n",
    "        print('City not found. Skipping...')\n",
    "        \n",
    "print('-----------------------------')\n",
    "print('Data Retrieval Complete ')\n",
    "print('-----------------------------')"
   ]
  },
  {
   "cell_type": "code",
   "execution_count": null,
   "metadata": {
    "scrolled": true
   },
   "outputs": [],
   "source": [
    "\n"
   ]
  },
  {
   "cell_type": "markdown",
   "metadata": {},
   "source": [
    "### Convert Raw Data to DataFrame\n",
    "* Export the city data into a .csv.\n",
    "* Display the DataFrame"
   ]
  },
  {
   "cell_type": "code",
   "execution_count": null,
   "metadata": {},
   "outputs": [],
   "source": []
  },
  {
   "cell_type": "code",
   "execution_count": null,
   "metadata": {},
   "outputs": [],
   "source": []
  },
  {
   "cell_type": "markdown",
   "metadata": {},
   "source": [
    "## Inspect the data and remove the cities where the humidity > 100%.\n",
    "----\n",
    "Skip this step if there are no cities that have humidity > 100%. "
   ]
  },
  {
   "cell_type": "code",
   "execution_count": null,
   "metadata": {},
   "outputs": [],
   "source": []
  },
  {
   "cell_type": "code",
   "execution_count": null,
   "metadata": {},
   "outputs": [],
   "source": [
    "#  Get the indices of cities that have humidity over 100%.\n"
   ]
  },
  {
   "cell_type": "code",
   "execution_count": null,
   "metadata": {},
   "outputs": [],
   "source": [
    "# Make a new DataFrame equal to the city data to drop all humidity outliers by index.\n",
    "# Passing \"inplace=False\" will make a copy of the city_data DataFrame, which we call \"clean_city_data\".\n"
   ]
  },
  {
   "cell_type": "code",
   "execution_count": null,
   "metadata": {},
   "outputs": [],
   "source": [
    "\n"
   ]
  },
  {
   "cell_type": "markdown",
   "metadata": {},
   "source": [
    "## Plotting the Data\n",
    "* Use proper labeling of the plots using plot titles (including date of analysis) and axes labels.\n",
    "* Save the plotted figures as .pngs."
   ]
  },
  {
   "cell_type": "markdown",
   "metadata": {},
   "source": [
    "## Latitude vs. Temperature Plot"
   ]
  },
  {
   "cell_type": "code",
   "execution_count": null,
   "metadata": {
    "scrolled": true
   },
   "outputs": [],
   "source": []
  },
  {
   "cell_type": "markdown",
   "metadata": {},
   "source": [
    "## Latitude vs. Humidity Plot"
   ]
  },
  {
   "cell_type": "code",
   "execution_count": null,
   "metadata": {},
   "outputs": [],
   "source": []
  },
  {
   "cell_type": "markdown",
   "metadata": {},
   "source": [
    "## Latitude vs. Cloudiness Plot"
   ]
  },
  {
   "cell_type": "code",
   "execution_count": null,
   "metadata": {},
   "outputs": [],
   "source": []
  },
  {
   "cell_type": "markdown",
   "metadata": {},
   "source": [
    "## Latitude vs. Wind Speed Plot"
   ]
  },
  {
   "cell_type": "code",
   "execution_count": null,
   "metadata": {},
   "outputs": [],
   "source": []
  },
  {
   "cell_type": "markdown",
   "metadata": {},
   "source": [
    "## Linear Regression"
   ]
  },
  {
   "cell_type": "code",
   "execution_count": null,
   "metadata": {},
   "outputs": [],
   "source": []
  },
  {
   "cell_type": "markdown",
   "metadata": {},
   "source": [
    "####  Northern Hemisphere - Max Temp vs. Latitude Linear Regression"
   ]
  },
  {
   "cell_type": "code",
   "execution_count": null,
   "metadata": {},
   "outputs": [],
   "source": []
  },
  {
   "cell_type": "markdown",
   "metadata": {},
   "source": [
    "####  Southern Hemisphere - Max Temp vs. Latitude Linear Regression"
   ]
  },
  {
   "cell_type": "code",
   "execution_count": null,
   "metadata": {},
   "outputs": [],
   "source": []
  },
  {
   "cell_type": "markdown",
   "metadata": {},
   "source": [
    "####  Northern Hemisphere - Humidity (%) vs. Latitude Linear Regression"
   ]
  },
  {
   "cell_type": "code",
   "execution_count": null,
   "metadata": {},
   "outputs": [],
   "source": []
  },
  {
   "cell_type": "markdown",
   "metadata": {},
   "source": [
    "####  Southern Hemisphere - Humidity (%) vs. Latitude Linear Regression"
   ]
  },
  {
   "cell_type": "code",
   "execution_count": null,
   "metadata": {},
   "outputs": [],
   "source": []
  },
  {
   "cell_type": "markdown",
   "metadata": {},
   "source": [
    "####  Northern Hemisphere - Cloudiness (%) vs. Latitude Linear Regression"
   ]
  },
  {
   "cell_type": "code",
   "execution_count": null,
   "metadata": {},
   "outputs": [],
   "source": []
  },
  {
   "cell_type": "markdown",
   "metadata": {},
   "source": [
    "####  Southern Hemisphere - Cloudiness (%) vs. Latitude Linear Regression"
   ]
  },
  {
   "cell_type": "code",
   "execution_count": null,
   "metadata": {},
   "outputs": [],
   "source": []
  },
  {
   "cell_type": "markdown",
   "metadata": {},
   "source": [
    "####  Northern Hemisphere - Wind Speed (mph) vs. Latitude Linear Regression"
   ]
  },
  {
   "cell_type": "code",
   "execution_count": null,
   "metadata": {},
   "outputs": [],
   "source": []
  },
  {
   "cell_type": "markdown",
   "metadata": {},
   "source": [
    "####  Southern Hemisphere - Wind Speed (mph) vs. Latitude Linear Regression"
   ]
  },
  {
   "cell_type": "code",
   "execution_count": null,
   "metadata": {},
   "outputs": [],
   "source": []
  },
  {
   "cell_type": "code",
   "execution_count": null,
   "metadata": {},
   "outputs": [],
   "source": []
  }
 ],
 "metadata": {
  "anaconda-cloud": {},
  "kernel_info": {
   "name": "python3"
  },
  "kernelspec": {
   "display_name": "Python 3",
   "language": "python",
   "name": "python3"
  },
  "language_info": {
   "codemirror_mode": {
    "name": "ipython",
    "version": 3
   },
   "file_extension": ".py",
   "mimetype": "text/x-python",
   "name": "python",
   "nbconvert_exporter": "python",
   "pygments_lexer": "ipython3",
   "version": "3.8.3"
  },
  "latex_envs": {
   "LaTeX_envs_menu_present": true,
   "autoclose": false,
   "autocomplete": true,
   "bibliofile": "biblio.bib",
   "cite_by": "apalike",
   "current_citInitial": 1,
   "eqLabelWithNumbers": true,
   "eqNumInitial": 1,
   "hotkeys": {
    "equation": "Ctrl-E",
    "itemize": "Ctrl-I"
   },
   "labels_anchors": false,
   "latex_user_defs": false,
   "report_style_numbering": false,
   "user_envs_cfg": false
  },
  "nteract": {
   "version": "0.12.3"
  }
 },
 "nbformat": 4,
 "nbformat_minor": 2
}
