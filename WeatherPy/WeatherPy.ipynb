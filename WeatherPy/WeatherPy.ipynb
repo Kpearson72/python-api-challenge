{
 "cells": [
  {
   "cell_type": "markdown",
   "metadata": {},
   "source": [
    "# WeatherPy\n",
    "----\n",
    "\n",
    "#### Note\n",
    "* Instructions have been included for each segment. You do not have to follow them exactly, but they are included to help you think through the steps."
   ]
  },
  {
   "cell_type": "code",
   "execution_count": 1,
   "metadata": {
    "scrolled": true
   },
   "outputs": [],
   "source": [
    "# Dependencies and Setup\n",
    "import matplotlib.pyplot as plt\n",
    "import pandas as pd\n",
    "import numpy as np\n",
    "import requests\n",
    "import time\n",
    "from scipy.stats import linregress\n",
    "\n",
    "# Import API key\n",
    "from config import weather_api_key\n",
    "\n",
    "# Incorporated citipy to determine city based on latitude and longitude\n",
    "from citipy import citipy\n",
    "\n",
    "# Output File (CSV)\n",
    "output_data_file = 'output_data/cities.csv'\n",
    "\n",
    "# Range of latitudes and longitudes\n",
    "lat_range = (-90, 90)\n",
    "lng_range = (-180, 180)"
   ]
  },
  {
   "cell_type": "code",
   "execution_count": null,
   "metadata": {},
   "outputs": [],
   "source": []
  },
  {
   "cell_type": "markdown",
   "metadata": {},
   "source": [
    "## Generate Cities List"
   ]
  },
  {
   "cell_type": "code",
   "execution_count": 2,
   "metadata": {},
   "outputs": [
    {
     "data": {
      "text/plain": [
       "641"
      ]
     },
     "execution_count": 2,
     "metadata": {},
     "output_type": "execute_result"
    }
   ],
   "source": [
    "# List for holding lat_lngs and cities\n",
    "lat_lngs = []\n",
    "cities = []\n",
    "\n",
    "# Create a set of random lat and lng combinations\n",
    "lats = np.random.uniform(lat_range[0], lat_range[1], size=1500)\n",
    "lngs = np.random.uniform(lng_range[0], lng_range[1], size=1500)\n",
    "lat_lngs = zip(lats, lngs)\n",
    "\n",
    "# Identify nearest city for each lat, lng combination\n",
    "for lat_lng in lat_lngs:\n",
    "    city = citipy.nearest_city(lat_lng[0], lat_lng[1]).city_name\n",
    "    \n",
    "    # If the city is unique, then add it to a our cities list\n",
    "    if city not in cities:\n",
    "        cities.append(city)\n",
    "\n",
    "# Print the city count to confirm sufficient count\n",
    "len(cities)\n",
    "#cities"
   ]
  },
  {
   "cell_type": "code",
   "execution_count": 3,
   "metadata": {},
   "outputs": [
    {
     "data": {
      "text/plain": [
       "{'coord': {'lon': -156.79, 'lat': 71.29},\n",
       " 'weather': [{'id': 801,\n",
       "   'main': 'Clouds',\n",
       "   'description': 'few clouds',\n",
       "   'icon': '02n'}],\n",
       " 'base': 'stations',\n",
       " 'main': {'temp': -22,\n",
       "  'feels_like': -29.75,\n",
       "  'temp_min': -22,\n",
       "  'temp_max': -22,\n",
       "  'pressure': 1033,\n",
       "  'humidity': 69},\n",
       " 'visibility': 10000,\n",
       " 'wind': {'speed': 5.7, 'deg': 70},\n",
       " 'clouds': {'all': 20},\n",
       " 'dt': 1607661591,\n",
       " 'sys': {'type': 1, 'id': 7649, 'country': 'US', 'sunrise': 0, 'sunset': 0},\n",
       " 'timezone': -32400,\n",
       " 'id': 5880054,\n",
       " 'name': 'Barrow',\n",
       " 'cod': 200}"
      ]
     },
     "execution_count": 3,
     "metadata": {},
     "output_type": "execute_result"
    }
   ],
   "source": [
    "url = \"http://api.openweathermap.org/data/2.5/weather?\"\n",
    "units = \"metric\"\n",
    "query_url = f\"{url}appid={weather_api_key}&units={units}&q=\"\n",
    "response = requests.get(query_url + city).json()\n",
    "response"
   ]
  },
  {
   "cell_type": "markdown",
   "metadata": {},
   "source": [
    "### Perform API Calls\n",
    "* Perform a weather check on each city using a series of successive API calls.\n",
    "* Include a print log of each city as it'sbeing processed (with the city number and city name).\n"
   ]
  },
  {
   "cell_type": "code",
   "execution_count": 4,
   "metadata": {},
   "outputs": [],
   "source": [
    "city_name = []\n",
    "city_lat = []\n",
    "city_lng = []\n",
    "max_temp = []\n",
    "humidity = []\n",
    "cloudiness = []\n",
    "wind_speed = []\n",
    "country = []\n",
    "date = []\n",
    "index_counter = 0\n",
    "set_counter = 1"
   ]
  },
  {
   "cell_type": "code",
   "execution_count": null,
   "metadata": {},
   "outputs": [
    {
     "name": "stdout",
     "output_type": "stream",
     "text": [
      "Beginning Data Retrieval \n",
      "-----------------------------\n",
      "Processing Record 1 of Set 1 | ushuaia\n",
      "Processing Record 2 of Set 1 | vaini\n",
      "Processing Record 3 of Set 1 | nerchinskiy zavod\n",
      "Processing Record 4 of Set 1 | yeppoon\n",
      "Processing Record 5 of Set 1 | cayenne\n",
      "Processing Record 6 of Set 1 | luderitz\n",
      "Processing Record 7 of Set 1 | kodiak\n",
      "City not found. Skipping...\n",
      "Processing Record 8 of Set 1 | mataura\n",
      "City not found. Skipping...\n",
      "Processing Record 9 of Set 1 | sao joao da barra\n",
      "Processing Record 10 of Set 1 | port alfred\n",
      "Processing Record 11 of Set 1 | ketchikan\n",
      "Processing Record 12 of Set 1 | port elizabeth\n",
      "Processing Record 13 of Set 1 | bowen\n",
      "Processing Record 14 of Set 1 | busselton\n",
      "Processing Record 15 of Set 1 | khovu-aksy\n",
      "Processing Record 16 of Set 1 | punta arenas\n",
      "Processing Record 17 of Set 1 | hobart\n",
      "Processing Record 18 of Set 1 | bethel\n",
      "Processing Record 19 of Set 1 | hilo\n",
      "Processing Record 20 of Set 1 | otukpo\n",
      "Processing Record 21 of Set 1 | cumana\n",
      "Processing Record 22 of Set 1 | cockburn town\n",
      "Processing Record 23 of Set 1 | los llanos de aridane\n",
      "Processing Record 24 of Set 1 | cabo san lucas\n",
      "City not found. Skipping...\n",
      "Processing Record 25 of Set 1 | westport\n",
      "Processing Record 26 of Set 1 | new norfolk\n",
      "Processing Record 27 of Set 1 | cap malheureux\n",
      "Processing Record 28 of Set 1 | lima\n",
      "Processing Record 29 of Set 1 | kaitangata\n",
      "City not found. Skipping...\n",
      "Processing Record 30 of Set 1 | korla\n",
      "Processing Record 31 of Set 1 | pittsburg\n",
      "Processing Record 32 of Set 1 | kapaa\n",
      "Processing Record 33 of Set 1 | yellowknife\n",
      "Processing Record 34 of Set 1 | tuktoyaktuk\n",
      "Processing Record 35 of Set 1 | jamestown\n",
      "Processing Record 36 of Set 1 | grants\n",
      "Processing Record 37 of Set 1 | gravelbourg\n",
      "Processing Record 38 of Set 1 | thompson\n",
      "Processing Record 39 of Set 1 | qaanaaq\n",
      "Processing Record 40 of Set 1 | barrow\n",
      "Processing Record 41 of Set 1 | upernavik\n",
      "Processing Record 42 of Set 1 | plettenberg bay\n",
      "Processing Record 43 of Set 1 | nieuw amsterdam\n",
      "Processing Record 44 of Set 1 | chokurdakh\n",
      "Processing Record 45 of Set 1 | saskylakh\n",
      "City not found. Skipping...\n",
      "City not found. Skipping...\n",
      "Processing Record 46 of Set 1 | okhotsk\n",
      "Processing Record 47 of Set 1 | inhambane\n",
      "Processing Record 48 of Set 1 | cidreira\n",
      "City not found. Skipping...\n",
      "Processing Record 49 of Set 1 | east london\n",
      "Processing Record 50 of Set 1 | acarau\n",
      "Processing Record 0 of Set 2 | tiksi\n",
      "Processing Record 1 of Set 2 | madang\n",
      "Processing Record 2 of Set 2 | bengkulu\n",
      "Processing Record 3 of Set 2 | buraydah\n",
      "City not found. Skipping...\n",
      "Processing Record 4 of Set 2 | butaritari\n",
      "Processing Record 5 of Set 2 | saint-philippe\n",
      "Processing Record 6 of Set 2 | ostashkov\n",
      "Processing Record 7 of Set 2 | sri aman\n",
      "Processing Record 8 of Set 2 | airai\n",
      "Processing Record 9 of Set 2 | ribeira grande\n",
      "Processing Record 10 of Set 2 | iqaluit\n",
      "Processing Record 11 of Set 2 | avera\n",
      "Processing Record 12 of Set 2 | norman wells\n",
      "Processing Record 13 of Set 2 | jiujiang\n",
      "Processing Record 14 of Set 2 | santa isabel\n",
      "Processing Record 15 of Set 2 | bredasdorp\n",
      "Processing Record 16 of Set 2 | albany\n",
      "Processing Record 17 of Set 2 | liverpool\n",
      "Processing Record 18 of Set 2 | kloulklubed\n",
      "Processing Record 19 of Set 2 | richards bay\n",
      "Processing Record 20 of Set 2 | bambous virieux\n",
      "City not found. Skipping...\n",
      "Processing Record 21 of Set 2 | vila\n",
      "Processing Record 22 of Set 2 | rafsanjan\n",
      "Processing Record 23 of Set 2 | san patricio\n",
      "Processing Record 24 of Set 2 | namibe\n",
      "Processing Record 25 of Set 2 | bluff\n",
      "City not found. Skipping...\n",
      "Processing Record 26 of Set 2 | apatou\n",
      "Processing Record 27 of Set 2 | mar del plata\n",
      "City not found. Skipping...\n",
      "Processing Record 28 of Set 2 | rikitea\n",
      "Processing Record 29 of Set 2 | puerto ayora\n",
      "Processing Record 30 of Set 2 | grand gaube\n",
      "Processing Record 31 of Set 2 | menongue\n",
      "Processing Record 32 of Set 2 | rocha\n",
      "Processing Record 33 of Set 2 | viedma\n",
      "Processing Record 34 of Set 2 | edgewater\n",
      "Processing Record 35 of Set 2 | sitka\n",
      "Processing Record 36 of Set 2 | yamada\n",
      "Processing Record 37 of Set 2 | kasli\n",
      "Processing Record 38 of Set 2 | lagoa\n",
      "Processing Record 39 of Set 2 | san andres\n",
      "Processing Record 40 of Set 2 | chinsali\n",
      "Processing Record 41 of Set 2 | zakharovo\n",
      "Processing Record 42 of Set 2 | takoradi\n",
      "City not found. Skipping...\n",
      "Processing Record 43 of Set 2 | san quintin\n",
      "Processing Record 44 of Set 2 | dalbandin\n",
      "Processing Record 45 of Set 2 | adrar\n",
      "Processing Record 46 of Set 2 | faanui\n",
      "Processing Record 47 of Set 2 | jardim\n",
      "City not found. Skipping...\n",
      "Processing Record 48 of Set 2 | victoria\n",
      "Processing Record 49 of Set 2 | filadelfia\n",
      "Processing Record 50 of Set 2 | palmer\n",
      "City not found. Skipping...\n",
      "Processing Record 0 of Set 3 | half moon bay\n",
      "City not found. Skipping...\n",
      "Processing Record 1 of Set 3 | bubaque\n",
      "Processing Record 2 of Set 3 | bathsheba\n",
      "Processing Record 3 of Set 3 | sirpur\n",
      "Processing Record 4 of Set 3 | thinadhoo\n",
      "Processing Record 5 of Set 3 | atuona\n",
      "Processing Record 6 of Set 3 | tianpeng\n",
      "Processing Record 7 of Set 3 | saint anthony\n",
      "Processing Record 8 of Set 3 | nikolskoye\n",
      "Processing Record 9 of Set 3 | belmonte\n",
      "Processing Record 10 of Set 3 | emba\n",
      "Processing Record 11 of Set 3 | leshukonskoye\n",
      "Processing Record 12 of Set 3 | mersing\n",
      "Processing Record 13 of Set 3 | caravelas\n",
      "Processing Record 14 of Set 3 | cape town\n",
      "Processing Record 15 of Set 3 | kampong thum\n",
      "Processing Record 16 of Set 3 | tasiilaq\n",
      "Processing Record 17 of Set 3 | kalmunai\n",
      "Processing Record 18 of Set 3 | husavik\n",
      "Processing Record 19 of Set 3 | kadoshkino\n",
      "Processing Record 20 of Set 3 | parati\n",
      "Processing Record 21 of Set 3 | saint george\n",
      "Processing Record 22 of Set 3 | guerrero negro\n",
      "Processing Record 23 of Set 3 | mexico\n",
      "Processing Record 24 of Set 3 | aklavik\n",
      "Processing Record 25 of Set 3 | oranjestad\n",
      "Processing Record 26 of Set 3 | ponta do sol\n",
      "Processing Record 27 of Set 3 | arraial do cabo\n",
      "Processing Record 28 of Set 3 | saldanha\n",
      "Processing Record 29 of Set 3 | marawi\n",
      "Processing Record 30 of Set 3 | ust-nera\n",
      "Processing Record 31 of Set 3 | talwara\n",
      "City not found. Skipping...\n",
      "Processing Record 32 of Set 3 | hermanus\n",
      "Processing Record 33 of Set 3 | sao gabriel da cachoeira\n",
      "Processing Record 34 of Set 3 | san luis\n",
      "City not found. Skipping...\n",
      "Processing Record 35 of Set 3 | sao jose da coroa grande\n",
      "Processing Record 36 of Set 3 | nelson bay\n",
      "Processing Record 37 of Set 3 | narsaq\n",
      "Processing Record 38 of Set 3 | torbay\n",
      "Processing Record 39 of Set 3 | banda aceh\n",
      "Processing Record 40 of Set 3 | kidal\n",
      "Processing Record 41 of Set 3 | opuwo\n",
      "Processing Record 42 of Set 3 | dikson\n",
      "Processing Record 43 of Set 3 | lucapa\n",
      "Processing Record 44 of Set 3 | fortuna\n",
      "Processing Record 45 of Set 3 | solnechnyy\n",
      "Processing Record 46 of Set 3 | labuhan\n",
      "Processing Record 47 of Set 3 | staryy nadym\n",
      "City not found. Skipping...\n",
      "Processing Record 48 of Set 3 | ndjole\n",
      "Processing Record 49 of Set 3 | provideniya\n",
      "Processing Record 50 of Set 3 | prince rupert\n",
      "Processing Record 0 of Set 4 | dunbar\n",
      "Processing Record 1 of Set 4 | zyryanka\n",
      "Processing Record 2 of Set 4 | yangambi\n",
      "Processing Record 3 of Set 4 | cherskiy\n",
      "Processing Record 4 of Set 4 | guanica\n",
      "Processing Record 5 of Set 4 | touros\n",
      "Processing Record 6 of Set 4 | saint-georges\n",
      "Processing Record 7 of Set 4 | baft\n",
      "Processing Record 8 of Set 4 | comodoro rivadavia\n",
      "City not found. Skipping...\n",
      "Processing Record 9 of Set 4 | dudinka\n",
      "Processing Record 10 of Set 4 | aykhal\n",
      "Processing Record 11 of Set 4 | kuminskiy\n",
      "Processing Record 12 of Set 4 | san cristobal\n",
      "Processing Record 13 of Set 4 | maniitsoq\n",
      "Processing Record 14 of Set 4 | kinablangan\n",
      "Processing Record 15 of Set 4 | charters towers\n",
      "Processing Record 16 of Set 4 | roros\n",
      "Processing Record 17 of Set 4 | jabinyanah\n",
      "Processing Record 18 of Set 4 | sarangarh\n",
      "Processing Record 19 of Set 4 | coquimbo\n",
      "Processing Record 20 of Set 4 | honiara\n",
      "Processing Record 21 of Set 4 | taitung\n",
      "Processing Record 22 of Set 4 | krasnogvardeyets\n",
      "Processing Record 23 of Set 4 | celestun\n",
      "Processing Record 24 of Set 4 | ahome\n",
      "Processing Record 25 of Set 4 | lebu\n",
      "Processing Record 26 of Set 4 | agen\n",
      "Processing Record 27 of Set 4 | ulaangom\n",
      "Processing Record 28 of Set 4 | olafsvik\n",
      "Processing Record 29 of Set 4 | huarmey\n",
      "Processing Record 30 of Set 4 | georgetown\n",
      "Processing Record 31 of Set 4 | avarua\n"
     ]
    },
    {
     "name": "stdout",
     "output_type": "stream",
     "text": [
      "Processing Record 32 of Set 4 | souillac\n",
      "Processing Record 33 of Set 4 | norrkoping\n",
      "Processing Record 34 of Set 4 | sarkand\n",
      "Processing Record 35 of Set 4 | sao filipe\n",
      "Processing Record 36 of Set 4 | izumo\n",
      "Processing Record 37 of Set 4 | itatskiy\n",
      "Processing Record 38 of Set 4 | ahipara\n",
      "City not found. Skipping...\n",
      "Processing Record 39 of Set 4 | haines junction\n",
      "Processing Record 40 of Set 4 | kavaratti\n",
      "Processing Record 41 of Set 4 | altay\n",
      "Processing Record 42 of Set 4 | eyl\n",
      "Processing Record 43 of Set 4 | qui nhon\n",
      "Processing Record 44 of Set 4 | egvekinot\n",
      "Processing Record 45 of Set 4 | umm kaddadah\n",
      "Processing Record 46 of Set 4 | dingle\n",
      "Processing Record 47 of Set 4 | karratha\n",
      "Processing Record 48 of Set 4 | udachnyy\n",
      "Processing Record 49 of Set 4 | noumea\n",
      "Processing Record 50 of Set 4 | carnarvon\n",
      "Processing Record 0 of Set 5 | puerto colombia\n",
      "Processing Record 1 of Set 5 | calituban\n",
      "Processing Record 2 of Set 5 | yulara\n",
      "Processing Record 3 of Set 5 | hambantota\n",
      "Processing Record 4 of Set 5 | mouila\n",
      "Processing Record 5 of Set 5 | severo-kurilsk\n",
      "Processing Record 6 of Set 5 | taoudenni\n",
      "Processing Record 7 of Set 5 | yei\n",
      "Processing Record 8 of Set 5 | igarka\n",
      "Processing Record 9 of Set 5 | alofi\n",
      "Processing Record 10 of Set 5 | quatre cocos\n",
      "Processing Record 11 of Set 5 | jojoima\n",
      "Processing Record 12 of Set 5 | maragogi\n",
      "Processing Record 13 of Set 5 | urengoy\n",
      "Processing Record 14 of Set 5 | longyearbyen\n",
      "City not found. Skipping...\n",
      "Processing Record 15 of Set 5 | coahuayana\n",
      "Processing Record 16 of Set 5 | kavieng\n",
      "Processing Record 17 of Set 5 | hithadhoo\n",
      "Processing Record 18 of Set 5 | khatanga\n",
      "Processing Record 19 of Set 5 | mugla\n",
      "Processing Record 20 of Set 5 | marzuq\n",
      "City not found. Skipping...\n",
      "Processing Record 21 of Set 5 | livingstone\n",
      "Processing Record 22 of Set 5 | morshansk\n",
      "Processing Record 23 of Set 5 | campbellsville\n",
      "Processing Record 24 of Set 5 | pangnirtung\n",
      "Processing Record 25 of Set 5 | bandarbeyla\n",
      "Processing Record 26 of Set 5 | nanortalik\n",
      "City not found. Skipping...\n",
      "Processing Record 27 of Set 5 | damghan\n",
      "Processing Record 28 of Set 5 | russell\n",
      "Processing Record 29 of Set 5 | clyde river\n",
      "Processing Record 30 of Set 5 | verkhovazhye\n",
      "Processing Record 31 of Set 5 | constitucion\n",
      "Processing Record 32 of Set 5 | axim\n",
      "Processing Record 33 of Set 5 | dongfeng\n",
      "Processing Record 34 of Set 5 | veraval\n",
      "Processing Record 35 of Set 5 | silver city\n",
      "Processing Record 36 of Set 5 | gariaband\n",
      "Processing Record 37 of Set 5 | yoichi\n",
      "Processing Record 38 of Set 5 | kirakira\n",
      "Processing Record 39 of Set 5 | pimenta bueno\n",
      "Processing Record 40 of Set 5 | basco\n",
      "Processing Record 41 of Set 5 | klaksvik\n",
      "Processing Record 42 of Set 5 | tamworth\n",
      "Processing Record 43 of Set 5 | fort nelson\n",
      "Processing Record 44 of Set 5 | ruteng\n",
      "Processing Record 45 of Set 5 | biak\n",
      "Processing Record 46 of Set 5 | burns lake\n",
      "Processing Record 47 of Set 5 | port-gentil\n",
      "Processing Record 48 of Set 5 | codrington\n",
      "Processing Record 49 of Set 5 | amarillo\n",
      "Processing Record 50 of Set 5 | sarahan\n"
     ]
    }
   ],
   "source": [
    "print('Beginning Data Retrieval ')\n",
    "print('-----------------------------')\n",
    "for index, city in enumerate(cities):\n",
    "    query_url = f\"{url}appid={weather_api_key}&units={units}&q=\"\n",
    "    response = requests.get(query_url + city).json()\n",
    "    try:\n",
    "       \n",
    "        city_name.append(response['name'])\n",
    "        city_lat.append(response['coord']['lat'])\n",
    "        city_lng.append(response['coord']['lon'])\n",
    "        max_temp.append(response['main']['temp_max'])\n",
    "        humidity.append(response['main']['humidity'])\n",
    "        cloudiness.append(response['clouds']['all'])\n",
    "        wind_speed.append(response['wind']['speed'])\n",
    "        country.append(response['sys']['country'])\n",
    "        date.append(response['dt'])\n",
    "        if index_counter > 49:\n",
    "            index_counter = 0\n",
    "            set_counter = set_counter + 1\n",
    "        else:\n",
    "            index_counter = index_counter + 1\n",
    "  \n",
    "        print(f\"Processing Record {index_counter} of Set {set_counter} | {city}\")\n",
    "    except:\n",
    "        print('City not found. Skipping...')\n",
    "        \n",
    "print('-----------------------------')\n",
    "print('Data Retrieval Complete ')\n",
    "print('-----------------------------')"
   ]
  },
  {
   "cell_type": "code",
   "execution_count": null,
   "metadata": {
    "scrolled": true
   },
   "outputs": [],
   "source": [
    "\n"
   ]
  },
  {
   "cell_type": "markdown",
   "metadata": {},
   "source": [
    "### Convert Raw Data to DataFrame\n",
    "* Export the city data into a .csv.\n",
    "* Display the DataFrame"
   ]
  },
  {
   "cell_type": "code",
   "execution_count": null,
   "metadata": {},
   "outputs": [],
   "source": []
  },
  {
   "cell_type": "code",
   "execution_count": null,
   "metadata": {},
   "outputs": [],
   "source": []
  },
  {
   "cell_type": "markdown",
   "metadata": {},
   "source": [
    "## Inspect the data and remove the cities where the humidity > 100%.\n",
    "----\n",
    "Skip this step if there are no cities that have humidity > 100%. "
   ]
  },
  {
   "cell_type": "code",
   "execution_count": null,
   "metadata": {},
   "outputs": [],
   "source": []
  },
  {
   "cell_type": "code",
   "execution_count": null,
   "metadata": {},
   "outputs": [],
   "source": [
    "#  Get the indices of cities that have humidity over 100%.\n"
   ]
  },
  {
   "cell_type": "code",
   "execution_count": null,
   "metadata": {},
   "outputs": [],
   "source": [
    "# Make a new DataFrame equal to the city data to drop all humidity outliers by index.\n",
    "# Passing \"inplace=False\" will make a copy of the city_data DataFrame, which we call \"clean_city_data\".\n"
   ]
  },
  {
   "cell_type": "code",
   "execution_count": null,
   "metadata": {},
   "outputs": [],
   "source": [
    "\n"
   ]
  },
  {
   "cell_type": "markdown",
   "metadata": {},
   "source": [
    "## Plotting the Data\n",
    "* Use proper labeling of the plots using plot titles (including date of analysis) and axes labels.\n",
    "* Save the plotted figures as .pngs."
   ]
  },
  {
   "cell_type": "markdown",
   "metadata": {},
   "source": [
    "## Latitude vs. Temperature Plot"
   ]
  },
  {
   "cell_type": "code",
   "execution_count": null,
   "metadata": {
    "scrolled": true
   },
   "outputs": [],
   "source": []
  },
  {
   "cell_type": "markdown",
   "metadata": {},
   "source": [
    "## Latitude vs. Humidity Plot"
   ]
  },
  {
   "cell_type": "code",
   "execution_count": null,
   "metadata": {},
   "outputs": [],
   "source": []
  },
  {
   "cell_type": "markdown",
   "metadata": {},
   "source": [
    "## Latitude vs. Cloudiness Plot"
   ]
  },
  {
   "cell_type": "code",
   "execution_count": null,
   "metadata": {},
   "outputs": [],
   "source": []
  },
  {
   "cell_type": "markdown",
   "metadata": {},
   "source": [
    "## Latitude vs. Wind Speed Plot"
   ]
  },
  {
   "cell_type": "code",
   "execution_count": null,
   "metadata": {},
   "outputs": [],
   "source": []
  },
  {
   "cell_type": "markdown",
   "metadata": {},
   "source": [
    "## Linear Regression"
   ]
  },
  {
   "cell_type": "code",
   "execution_count": null,
   "metadata": {},
   "outputs": [],
   "source": []
  },
  {
   "cell_type": "markdown",
   "metadata": {},
   "source": [
    "####  Northern Hemisphere - Max Temp vs. Latitude Linear Regression"
   ]
  },
  {
   "cell_type": "code",
   "execution_count": null,
   "metadata": {},
   "outputs": [],
   "source": []
  },
  {
   "cell_type": "markdown",
   "metadata": {},
   "source": [
    "####  Southern Hemisphere - Max Temp vs. Latitude Linear Regression"
   ]
  },
  {
   "cell_type": "code",
   "execution_count": null,
   "metadata": {},
   "outputs": [],
   "source": []
  },
  {
   "cell_type": "markdown",
   "metadata": {},
   "source": [
    "####  Northern Hemisphere - Humidity (%) vs. Latitude Linear Regression"
   ]
  },
  {
   "cell_type": "code",
   "execution_count": null,
   "metadata": {},
   "outputs": [],
   "source": []
  },
  {
   "cell_type": "markdown",
   "metadata": {},
   "source": [
    "####  Southern Hemisphere - Humidity (%) vs. Latitude Linear Regression"
   ]
  },
  {
   "cell_type": "code",
   "execution_count": null,
   "metadata": {},
   "outputs": [],
   "source": []
  },
  {
   "cell_type": "markdown",
   "metadata": {},
   "source": [
    "####  Northern Hemisphere - Cloudiness (%) vs. Latitude Linear Regression"
   ]
  },
  {
   "cell_type": "code",
   "execution_count": null,
   "metadata": {},
   "outputs": [],
   "source": []
  },
  {
   "cell_type": "markdown",
   "metadata": {},
   "source": [
    "####  Southern Hemisphere - Cloudiness (%) vs. Latitude Linear Regression"
   ]
  },
  {
   "cell_type": "code",
   "execution_count": null,
   "metadata": {},
   "outputs": [],
   "source": []
  },
  {
   "cell_type": "markdown",
   "metadata": {},
   "source": [
    "####  Northern Hemisphere - Wind Speed (mph) vs. Latitude Linear Regression"
   ]
  },
  {
   "cell_type": "code",
   "execution_count": null,
   "metadata": {},
   "outputs": [],
   "source": []
  },
  {
   "cell_type": "markdown",
   "metadata": {},
   "source": [
    "####  Southern Hemisphere - Wind Speed (mph) vs. Latitude Linear Regression"
   ]
  },
  {
   "cell_type": "code",
   "execution_count": null,
   "metadata": {},
   "outputs": [],
   "source": []
  },
  {
   "cell_type": "code",
   "execution_count": null,
   "metadata": {},
   "outputs": [],
   "source": []
  }
 ],
 "metadata": {
  "anaconda-cloud": {},
  "kernel_info": {
   "name": "python3"
  },
  "kernelspec": {
   "display_name": "Python 3",
   "language": "python",
   "name": "python3"
  },
  "language_info": {
   "codemirror_mode": {
    "name": "ipython",
    "version": 3
   },
   "file_extension": ".py",
   "mimetype": "text/x-python",
   "name": "python",
   "nbconvert_exporter": "python",
   "pygments_lexer": "ipython3",
   "version": "3.8.3"
  },
  "latex_envs": {
   "LaTeX_envs_menu_present": true,
   "autoclose": false,
   "autocomplete": true,
   "bibliofile": "biblio.bib",
   "cite_by": "apalike",
   "current_citInitial": 1,
   "eqLabelWithNumbers": true,
   "eqNumInitial": 1,
   "hotkeys": {
    "equation": "Ctrl-E",
    "itemize": "Ctrl-I"
   },
   "labels_anchors": false,
   "latex_user_defs": false,
   "report_style_numbering": false,
   "user_envs_cfg": false
  },
  "nteract": {
   "version": "0.12.3"
  }
 },
 "nbformat": 4,
 "nbformat_minor": 2
}
