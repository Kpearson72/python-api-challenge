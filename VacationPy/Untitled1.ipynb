{
 "cells": [
  {
   "cell_type": "code",
   "execution_count": 5,
   "metadata": {},
   "outputs": [],
   "source": [
    "# Dependencies and Setup\n",
    "import matplotlib.pyplot as plt\n",
    "import pandas as pd\n",
    "import numpy as np\n",
    "import requests\n",
    "import gmaps\n",
    "import os\n",
    "\n",
    "# Import API key\n",
    "from api_keys import g_key"
   ]
  },
  {
   "cell_type": "code",
   "execution_count": 6,
   "metadata": {},
   "outputs": [
    {
     "data": {
      "text/html": [
       "<div>\n",
       "<style scoped>\n",
       "    .dataframe tbody tr th:only-of-type {\n",
       "        vertical-align: middle;\n",
       "    }\n",
       "\n",
       "    .dataframe tbody tr th {\n",
       "        vertical-align: top;\n",
       "    }\n",
       "\n",
       "    .dataframe thead th {\n",
       "        text-align: right;\n",
       "    }\n",
       "</style>\n",
       "<table border=\"1\" class=\"dataframe\">\n",
       "  <thead>\n",
       "    <tr style=\"text-align: right;\">\n",
       "      <th></th>\n",
       "      <th>City</th>\n",
       "      <th>Lat</th>\n",
       "      <th>Lng</th>\n",
       "      <th>Max Temp</th>\n",
       "      <th>Humidity</th>\n",
       "      <th>Cloudiness</th>\n",
       "      <th>Wind Speed</th>\n",
       "      <th>Country</th>\n",
       "      <th>Date</th>\n",
       "    </tr>\n",
       "  </thead>\n",
       "  <tbody>\n",
       "    <tr>\n",
       "      <th>0</th>\n",
       "      <td>Rikitea</td>\n",
       "      <td>-23.12</td>\n",
       "      <td>-134.97</td>\n",
       "      <td>25.24</td>\n",
       "      <td>78</td>\n",
       "      <td>100</td>\n",
       "      <td>5.55</td>\n",
       "      <td>PF</td>\n",
       "      <td>1607740424</td>\n",
       "    </tr>\n",
       "    <tr>\n",
       "      <th>1</th>\n",
       "      <td>Øksfjord</td>\n",
       "      <td>70.24</td>\n",
       "      <td>22.35</td>\n",
       "      <td>0.00</td>\n",
       "      <td>93</td>\n",
       "      <td>100</td>\n",
       "      <td>9.30</td>\n",
       "      <td>NO</td>\n",
       "      <td>1607740424</td>\n",
       "    </tr>\n",
       "    <tr>\n",
       "      <th>2</th>\n",
       "      <td>Lebu</td>\n",
       "      <td>-37.62</td>\n",
       "      <td>-73.65</td>\n",
       "      <td>13.30</td>\n",
       "      <td>89</td>\n",
       "      <td>100</td>\n",
       "      <td>2.46</td>\n",
       "      <td>CL</td>\n",
       "      <td>1607740424</td>\n",
       "    </tr>\n",
       "    <tr>\n",
       "      <th>3</th>\n",
       "      <td>Tasiilaq</td>\n",
       "      <td>65.61</td>\n",
       "      <td>-37.64</td>\n",
       "      <td>-2.00</td>\n",
       "      <td>74</td>\n",
       "      <td>100</td>\n",
       "      <td>0.50</td>\n",
       "      <td>GL</td>\n",
       "      <td>1607740425</td>\n",
       "    </tr>\n",
       "    <tr>\n",
       "      <th>4</th>\n",
       "      <td>Zavitinsk</td>\n",
       "      <td>50.12</td>\n",
       "      <td>129.45</td>\n",
       "      <td>-18.41</td>\n",
       "      <td>91</td>\n",
       "      <td>92</td>\n",
       "      <td>2.16</td>\n",
       "      <td>RU</td>\n",
       "      <td>1607740425</td>\n",
       "    </tr>\n",
       "  </tbody>\n",
       "</table>\n",
       "</div>"
      ],
      "text/plain": [
       "        City    Lat     Lng  Max Temp  Humidity  Cloudiness  Wind Speed  \\\n",
       "0    Rikitea -23.12 -134.97     25.24        78         100        5.55   \n",
       "1   Øksfjord  70.24   22.35      0.00        93         100        9.30   \n",
       "2       Lebu -37.62  -73.65     13.30        89         100        2.46   \n",
       "3   Tasiilaq  65.61  -37.64     -2.00        74         100        0.50   \n",
       "4  Zavitinsk  50.12  129.45    -18.41        91          92        2.16   \n",
       "\n",
       "  Country        Date  \n",
       "0      PF  1607740424  \n",
       "1      NO  1607740424  \n",
       "2      CL  1607740424  \n",
       "3      GL  1607740425  \n",
       "4      RU  1607740425  "
      ]
     },
     "execution_count": 6,
     "metadata": {},
     "output_type": "execute_result"
    }
   ],
   "source": [
    "# Store csv created in part one into a DataFrame\n",
    "city_df = pd.read_csv(\"data/city_df.csv\")\n",
    "city_df.head()"
   ]
  },
  {
   "cell_type": "code",
   "execution_count": 7,
   "metadata": {},
   "outputs": [],
   "source": [
    "# Configure gmaps\n",
    "gmaps.configure(api_key=g_key)"
   ]
  },
  {
   "cell_type": "code",
   "execution_count": 15,
   "metadata": {},
   "outputs": [
    {
     "data": {
      "application/vnd.jupyter.widget-view+json": {
       "model_id": "9a0737a7d41742f4b1cc1f66042c61a6",
       "version_major": 2,
       "version_minor": 0
      },
      "text/plain": [
       "Figure(layout=FigureLayout(border='1px solid black', height='400px', padding='1px', width='600px'))"
      ]
     },
     "metadata": {},
     "output_type": "display_data"
    }
   ],
   "source": [
    "# Heatmap of humidity\n",
    "locations = city_df[[\"Lat\", \"Lng\"]]\n",
    "humidity = city_df[\"Humidity\"]\n",
    "figure_layout = {'width': '600px',\n",
    "                'height': '400px',\n",
    "                'border':'1px solid black',\n",
    "                'padding': '1px'}\n",
    "fig = gmaps.figure(layout = figure_layout)\n",
    "heat_layer = gmaps.heatmap_layer(locations, weights=humidity, dissipating=False, max_intensity=300, point_radius=5)\n",
    "\n",
    "fig.add_layer(heat_layer)\n",
    "\n",
    "fig"
   ]
  },
  {
   "cell_type": "code",
   "execution_count": null,
   "metadata": {},
   "outputs": [],
   "source": []
  }
 ],
 "metadata": {
  "kernelspec": {
   "display_name": "Python 3",
   "language": "python",
   "name": "python3"
  },
  "language_info": {
   "codemirror_mode": {
    "name": "ipython",
    "version": 3
   },
   "file_extension": ".py",
   "mimetype": "text/x-python",
   "name": "python",
   "nbconvert_exporter": "python",
   "pygments_lexer": "ipython3",
   "version": "3.8.3"
  }
 },
 "nbformat": 4,
 "nbformat_minor": 4
}
